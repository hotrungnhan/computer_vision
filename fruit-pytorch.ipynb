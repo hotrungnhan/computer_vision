{
 "cells": [
  {
   "cell_type": "markdown",
   "metadata": {},
   "source": [
    "# Library Declaration"
   ]
  },
  {
   "cell_type": "code",
   "execution_count": 3,
   "metadata": {},
   "outputs": [
    {
     "name": "stderr",
     "output_type": "stream",
     "text": [
      "C:\\Users\\hotru\\AppData\\Local\\Programs\\Python\\Python39\\lib\\site-packages\\matplotlib_inline\\config.py:66: DeprecationWarning: InlineBackend._figure_formats_changed is deprecated in traitlets 4.1: use @observe and @unobserve instead.\n",
      "  def _figure_formats_changed(self, name, old, new):\n"
     ]
    }
   ],
   "source": [
    "from torchvision import models, datasets, transforms\n",
    "from torch.utils.data import DataLoader\n",
    "import torch\n",
    "from kornia.feature import SIFTDescriptor\n",
    "import pathlib\n",
    "import numpy as np\n",
    "import pandas as pd\n",
    "import seaborn as sns\n",
    "import pathlib\n",
    "import splitfolders\n",
    "import random\n",
    "import os\n",
    "from tqdm import tqdm\n",
    "from sklearn import svm\n",
    "from sklearn.metrics import classification_report\n",
    "\n"
   ]
  },
  {
   "cell_type": "code",
   "execution_count": 4,
   "metadata": {},
   "outputs": [],
   "source": [
    "DATA_SETS_DIRS = \"./data/fruit\"\n",
    "DATA_SETS_SPLIT_OUT_DIRS = \"./data/fruit_splited\"\n",
    "BATCH_SIZE = 24\n",
    "SEED = 12394\n"
   ]
  },
  {
   "cell_type": "code",
   "execution_count": 5,
   "metadata": {},
   "outputs": [
    {
     "name": "stdout",
     "output_type": "stream",
     "text": [
      "NVIDIA GeForce GTX 1050 Ti\n",
      "|===========================================================================|\n",
      "|                  PyTorch CUDA memory summary, device ID 0                 |\n",
      "|---------------------------------------------------------------------------|\n",
      "|            CUDA OOMs: 0            |        cudaMalloc retries: 0         |\n",
      "|===========================================================================|\n",
      "|        Metric         | Cur Usage  | Peak Usage | Tot Alloc  | Tot Freed  |\n",
      "|---------------------------------------------------------------------------|\n",
      "| Allocated memory      |       0 B  |       0 B  |       0 B  |       0 B  |\n",
      "|       from large pool |       0 B  |       0 B  |       0 B  |       0 B  |\n",
      "|       from small pool |       0 B  |       0 B  |       0 B  |       0 B  |\n",
      "|---------------------------------------------------------------------------|\n",
      "| Active memory         |       0 B  |       0 B  |       0 B  |       0 B  |\n",
      "|       from large pool |       0 B  |       0 B  |       0 B  |       0 B  |\n",
      "|       from small pool |       0 B  |       0 B  |       0 B  |       0 B  |\n",
      "|---------------------------------------------------------------------------|\n",
      "| GPU reserved memory   |       0 B  |       0 B  |       0 B  |       0 B  |\n",
      "|       from large pool |       0 B  |       0 B  |       0 B  |       0 B  |\n",
      "|       from small pool |       0 B  |       0 B  |       0 B  |       0 B  |\n",
      "|---------------------------------------------------------------------------|\n",
      "| Non-releasable memory |       0 B  |       0 B  |       0 B  |       0 B  |\n",
      "|       from large pool |       0 B  |       0 B  |       0 B  |       0 B  |\n",
      "|       from small pool |       0 B  |       0 B  |       0 B  |       0 B  |\n",
      "|---------------------------------------------------------------------------|\n",
      "| Allocations           |       0    |       0    |       0    |       0    |\n",
      "|       from large pool |       0    |       0    |       0    |       0    |\n",
      "|       from small pool |       0    |       0    |       0    |       0    |\n",
      "|---------------------------------------------------------------------------|\n",
      "| Active allocs         |       0    |       0    |       0    |       0    |\n",
      "|       from large pool |       0    |       0    |       0    |       0    |\n",
      "|       from small pool |       0    |       0    |       0    |       0    |\n",
      "|---------------------------------------------------------------------------|\n",
      "| GPU reserved segments |       0    |       0    |       0    |       0    |\n",
      "|       from large pool |       0    |       0    |       0    |       0    |\n",
      "|       from small pool |       0    |       0    |       0    |       0    |\n",
      "|---------------------------------------------------------------------------|\n",
      "| Non-releasable allocs |       0    |       0    |       0    |       0    |\n",
      "|       from large pool |       0    |       0    |       0    |       0    |\n",
      "|       from small pool |       0    |       0    |       0    |       0    |\n",
      "|---------------------------------------------------------------------------|\n",
      "| Oversize allocations  |       0    |       0    |       0    |       0    |\n",
      "|---------------------------------------------------------------------------|\n",
      "| Oversize GPU segments |       0    |       0    |       0    |       0    |\n",
      "|===========================================================================|\n",
      "\n"
     ]
    }
   ],
   "source": [
    "device = torch.device(\"cuda:0\" if torch.cuda.is_available() else \"cpu\")\n",
    "if torch.cuda.is_available():\n",
    "    print(torch.cuda.get_device_name(0))\n",
    "    torch.cuda.empty_cache()\n",
    "    print(torch.cuda.memory_summary(device))\n"
   ]
  },
  {
   "cell_type": "markdown",
   "metadata": {},
   "source": [
    "# Data analysis\n"
   ]
  },
  {
   "cell_type": "code",
   "execution_count": 6,
   "metadata": {},
   "outputs": [],
   "source": [
    "def plot_image_folder(dir):\n",
    "    data_dir = pathlib.Path(dir)\n",
    "    # print folder name\n",
    "    data_statictis = pd.DataFrame(data=[(i.name, len(os.listdir(i)))\n",
    "                                        for i in data_dir.glob('*')], columns=[\"classname\", \"quantity\"])\n",
    "    sns.barplot(data=data_statictis, y=\"classname\", x=\"quantity\")\n",
    "    print(data_statictis)"
   ]
  },
  {
   "cell_type": "code",
   "execution_count": 7,
   "metadata": {},
   "outputs": [
    {
     "name": "stdout",
     "output_type": "stream",
     "text": [
      "      classname  quantity\n",
      "0        Banana      3027\n",
      "1     Carambola      2080\n",
      "2         Mango      4154\n",
      "3     muskmelon      2078\n",
      "4        Orange      3012\n",
      "5         Peach      2629\n",
      "6          Pear      3012\n",
      "7     Persimmon      2072\n",
      "8        Pitaya      2501\n",
      "9          Plum      2298\n",
      "10  Pomegranate      2167\n",
      "11     Tomatoes      2171\n"
     ]
    },
    {
     "data": {
      "image/png": "[encoded data removed]",
      "text/plain": [
       "<Figure size 432x288 with 1 Axes>"
      ]
     },
     "metadata": {
      "needs_background": "light"
     },
     "output_type": "display_data"
    }
   ],
   "source": [
    "plot_image_folder(DATA_SETS_DIRS)"
   ]
  },
  {
   "cell_type": "markdown",
   "metadata": {},
   "source": [
    "# Data Spliter & Balancer"
   ]
  },
  {
   "cell_type": "code",
   "execution_count": 8,
   "metadata": {},
   "outputs": [],
   "source": [
    "if not os.path.isdir(DATA_SETS_SPLIT_OUT_DIRS):\n",
    "    splitfolders.fixed(DATA_SETS_DIRS, output=DATA_SETS_SPLIT_OUT_DIRS,\n",
    "                    seed=SEED, fixed=(350, 350), oversample=False, group_prefix=None)"
   ]
  },
  {
   "cell_type": "code",
   "execution_count": 9,
   "metadata": {},
   "outputs": [],
   "source": [
    "TRAIN_DIRS=DATA_SETS_SPLIT_OUT_DIRS+\"/train\"\n",
    "VALIDATE_DIRS=DATA_SETS_SPLIT_OUT_DIRS+\"/val\"\n",
    "TEST_DIRS=DATA_SETS_SPLIT_OUT_DIRS+\"/test\""
   ]
  },
  {
   "cell_type": "code",
   "execution_count": 10,
   "metadata": {},
   "outputs": [
    {
     "name": "stdout",
     "output_type": "stream",
     "text": [
      "      classname  quantity\n",
      "0        Banana      1372\n",
      "1     Carambola      1372\n",
      "2         Mango      1372\n",
      "3     muskmelon      1372\n",
      "4        Orange      1372\n",
      "5         Peach      1372\n",
      "6          Pear      1372\n",
      "7     Persimmon      1372\n",
      "8        Pitaya      1372\n",
      "9          Plum      1372\n",
      "10  Pomegranate      1372\n",
      "11     Tomatoes      1372\n"
     ]
    },
    {
     "data": {
      "image/png": "[encoded data removed]",
      "text/plain": [
       "<Figure size 432x288 with 1 Axes>"
      ]
     },
     "metadata": {
      "needs_background": "light"
     },
     "output_type": "display_data"
    }
   ],
   "source": [
    "plot_image_folder(TRAIN_DIRS)"
   ]
  },
  {
   "cell_type": "markdown",
   "metadata": {},
   "source": [
    "## Undersampling"
   ]
  },
  {
   "cell_type": "code",
   "execution_count": 11,
   "metadata": {},
   "outputs": [],
   "source": [
    "def under_sampling(dirs_path, no_sample=None):\n",
    "\n",
    "    if no_sample is None:\n",
    "        min_train_samples = min([len(os.listdir(i))\n",
    "                                for i in dirs_path.glob(\"*\")])\n",
    "    prog_bar = tqdm(desc=f\"Deleted files\", unit=\" files\")\n",
    "    for i in dirs_path.glob(\"*\"):\n",
    "        if no_sample is None:\n",
    "            quantity_of_remove_image = len(os.listdir(i))-min_train_samples\n",
    "        else:\n",
    "            quantity_of_remove_image = no_sample\n",
    "        remove_images = random.sample(os.listdir(i), quantity_of_remove_image)\n",
    "        for image in remove_images:\n",
    "            prog_bar.update()\n",
    "            f = os.path.join(i, image)\n",
    "            os.remove(f)\n",
    "    prog_bar.close()"
   ]
  },
  {
   "cell_type": "code",
   "execution_count": 12,
   "metadata": {},
   "outputs": [
    {
     "name": "stderr",
     "output_type": "stream",
     "text": [
      "Deleted files: 0 files [00:00, ? files/s]\n"
     ]
    }
   ],
   "source": [
    "random.seed(SEED)\n",
    "under_sampling(pathlib.Path(TRAIN_DIRS))"
   ]
  },
  {
   "cell_type": "markdown",
   "metadata": {},
   "source": [
    "# Load train && test data"
   ]
  },
  {
   "cell_type": "code",
   "execution_count": 13,
   "metadata": {},
   "outputs": [],
   "source": [
    "normalize = transforms.Normalize(mean=[0.485, 0.456, 0.406],\n",
    "                                 std=[0.229, 0.224, 0.225])\n",
    "training_preprocess = transforms.Compose([\n",
    "    transforms.RandomResizedCrop(224),\n",
    "    transforms.RandomHorizontalFlip(),\n",
    "    transforms.ToTensor(),\n",
    "    normalize,\n",
    "])\n",
    "validation_preprocess = transforms.Compose([\n",
    "    transforms.Resize(256),\n",
    "    transforms.CenterCrop(224),\n",
    "    transforms.ToTensor(),\n",
    "    normalize,\n",
    "])"
   ]
  },
  {
   "cell_type": "code",
   "execution_count": 14,
   "metadata": {},
   "outputs": [],
   "source": [
    "def load_data_set(dir, transform, batch_size=64):\n",
    "    data_sets = datasets.ImageFolder(dir, transform=transform)\n",
    "    return DataLoader(data_sets, batch_size=batch_size)\n",
    "def decode_label(label, dataloader):\n",
    "    return dataloader.dataset.classes[label]"
   ]
  },
  {
   "cell_type": "code",
   "execution_count": 15,
   "metadata": {},
   "outputs": [],
   "source": [
    "\n",
    "train_data_loader = load_data_set(TRAIN_DIRS, training_preprocess, BATCH_SIZE)\n",
    "validate_data_loader = load_data_set(\n",
    "    VALIDATE_DIRS,  validation_preprocess, BATCH_SIZE)\n",
    "test_data_loader= load_data_set(TEST_DIRS, validation_preprocess, BATCH_SIZE)\n"
   ]
  },
  {
   "cell_type": "code",
   "execution_count": 16,
   "metadata": {},
   "outputs": [],
   "source": [
    "classes = train_data_loader.dataset.classes\n"
   ]
  },
  {
   "cell_type": "code",
   "execution_count": 17,
   "metadata": {},
   "outputs": [
    {
     "name": "stdout",
     "output_type": "stream",
     "text": [
      "train: 16464\n",
      "validate: 4200\n",
      "test: 4200\n"
     ]
    }
   ],
   "source": [
    "print(\"train:\", len(train_data_loader.dataset.samples))\n",
    "print(\"validate:\", len(validate_data_loader.dataset.samples))\n",
    "print(\"test:\", len(test_data_loader.dataset.samples))"
   ]
  },
  {
   "cell_type": "markdown",
   "metadata": {},
   "source": [
    "# Feature Extractor"
   ]
  },
  {
   "cell_type": "code",
   "execution_count": 18,
   "metadata": {},
   "outputs": [],
   "source": [
    "def generate_vector(model, dataloader, device=\"cpu\"):\n",
    "    model.eval()\n",
    "    model.to(device)\n",
    "    results = np.empty((0, 4096))\n",
    "    labels = np.empty(0)\n",
    "    for image_batch, label_batch in tqdm(dataloader, unit_scale=BATCH_SIZE, unit=\"image\"):\n",
    "        predict = model(image_batch.to(device))\n",
    "        results = np.concatenate((results, predict.detach().cpu()))\n",
    "        labels = np.concatenate((labels, label_batch))\n",
    "        del predict\n",
    "    model.cpu()\n",
    "    torch.cuda.empty_cache()\n",
    "    return results, labels\n"
   ]
  },
  {
   "cell_type": "markdown",
   "metadata": {},
   "source": [
    "## Alexnet"
   ]
  },
  {
   "cell_type": "markdown",
   "metadata": {},
   "source": [
    "### setup"
   ]
  },
  {
   "cell_type": "code",
   "execution_count": 19,
   "metadata": {},
   "outputs": [],
   "source": [
    "alexnet_model = models.alexnet(pretrained=True, progress=True)\n",
    "alexnet_model.classifier = alexnet_model.classifier[:-1]"
   ]
  },
  {
   "cell_type": "markdown",
   "metadata": {},
   "source": [
    "### gen vector"
   ]
  },
  {
   "cell_type": "code",
   "execution_count": 20,
   "metadata": {},
   "outputs": [
    {
     "name": "stderr",
     "output_type": "stream",
     "text": [
      "100%|██████████| 16464/16464 [08:04<00:00, 33.98image/s]\n"
     ]
    }
   ],
   "source": [
    "x_alex_img_train_sets, y_alex_label_train_sets = generate_vector(\n",
    "    alexnet_model, train_data_loader, device)\n",
    "\n"
   ]
  },
  {
   "cell_type": "code",
   "execution_count": 21,
   "metadata": {},
   "outputs": [
    {
     "name": "stderr",
     "output_type": "stream",
     "text": [
      "100%|██████████| 4200/4200 [01:09<00:00, 60.19image/s]\n"
     ]
    }
   ],
   "source": [
    "x_alex_img_test_sets,  y_alex_label_test_sets = generate_vector(\n",
    "    alexnet_model, test_data_loader, device)"
   ]
  },
  {
   "cell_type": "markdown",
   "metadata": {},
   "source": [
    "## VGG16"
   ]
  },
  {
   "cell_type": "markdown",
   "metadata": {},
   "source": [
    "### setup"
   ]
  },
  {
   "cell_type": "code",
   "execution_count": 22,
   "metadata": {},
   "outputs": [],
   "source": [
    "vgg16_model = models.vgg16(pretrained=True, progress=True)\n",
    "vgg16_model.classifier = vgg16_model.classifier[:-1]\n"
   ]
  },
  {
   "cell_type": "markdown",
   "metadata": {},
   "source": [
    "### gen vector"
   ]
  },
  {
   "cell_type": "code",
   "execution_count": 23,
   "metadata": {},
   "outputs": [
    {
     "name": "stderr",
     "output_type": "stream",
     "text": [
      "100%|██████████| 16464/16464 [06:51<00:00, 39.97image/s]\n"
     ]
    }
   ],
   "source": [
    "x_vgg16_img_train_sets, y_vgg16_label_train_sets = generate_vector(\n",
    "    vgg16_model, train_data_loader, device)"
   ]
  },
  {
   "cell_type": "code",
   "execution_count": 24,
   "metadata": {},
   "outputs": [
    {
     "name": "stderr",
     "output_type": "stream",
     "text": [
      "100%|██████████| 4200/4200 [01:37<00:00, 42.96image/s]\n"
     ]
    }
   ],
   "source": [
    "x_vgg16_img_test_sets, y_vgg16_label_test_sets = generate_vector(\n",
    "    vgg16_model, test_data_loader, device)"
   ]
  },
  {
   "cell_type": "markdown",
   "metadata": {},
   "source": [
    "## SIFT"
   ]
  },
  {
   "cell_type": "markdown",
   "metadata": {},
   "source": [
    "### setup"
   ]
  },
  {
   "cell_type": "code",
   "execution_count": 45,
   "metadata": {},
   "outputs": [],
   "source": [
    "def sift_generate_vector(model, dataloader, device=\"cpu\"):\n",
    "    model.eval()\n",
    "    model.to(device)\n",
    "    results = np.empty((0, 4096))\n",
    "    labels = np.empty(0)\n",
    "    for image_batch, label_batch in tqdm(dataloader, unit_scale=BATCH_SIZE, unit=\"image\"):\n",
    "        images = [transforms.ToPILImage()(x) for x in image_batch]\n",
    "        images = [transforms.Grayscale()(x) for x in images]\n",
    "        images = [transforms.ToTensor()(x) for x in images]\n",
    "        images = torch.stack(images).to(device)\n",
    "        predict = model(images)\n",
    "        results = np.concatenate((results, predict.detach().cpu()))\n",
    "        labels = np.concatenate((labels, label_batch))\n",
    "        del predict\n",
    "    model.cpu()\n",
    "    torch.cuda.empty_cache()\n",
    "    return results, labels"
   ]
  },
  {
   "cell_type": "code",
   "execution_count": 44,
   "metadata": {},
   "outputs": [],
   "source": [
    "sift_model = SIFTDescriptor(patch_size=224,num_ang_bins=64,num_spatial_bins=8)"
   ]
  },
  {
   "cell_type": "markdown",
   "metadata": {},
   "source": [
    "### gen vector\n"
   ]
  },
  {
   "cell_type": "code",
   "execution_count": 46,
   "metadata": {},
   "outputs": [
    {
     "name": "stderr",
     "output_type": "stream",
     "text": [
      "100%|██████████| 16464/16464 [05:14<00:00, 52.37image/s]\n"
     ]
    }
   ],
   "source": [
    "x_sift_img_train_sets, y_sift_label_train_sets = sift_generate_vector(\n",
    "    sift_model, train_data_loader, device)\n"
   ]
  },
  {
   "cell_type": "code",
   "execution_count": 47,
   "metadata": {},
   "outputs": [
    {
     "name": "stderr",
     "output_type": "stream",
     "text": [
      "100%|██████████| 4200/4200 [01:17<00:00, 53.99image/s]\n"
     ]
    }
   ],
   "source": [
    "x_sift_img_test_sets, y_sift_label_test_sets = sift_generate_vector(\n",
    "    sift_model, test_data_loader, device)"
   ]
  },
  {
   "cell_type": "markdown",
   "metadata": {},
   "source": [
    "# Train"
   ]
  },
  {
   "cell_type": "markdown",
   "metadata": {},
   "source": [
    "## ALEXNET-SVM"
   ]
  },
  {
   "cell_type": "code",
   "execution_count": 32,
   "metadata": {},
   "outputs": [],
   "source": [
    "alexnet_svm_model = svm.SVC(verbose=True)"
   ]
  },
  {
   "cell_type": "code",
   "execution_count": 33,
   "metadata": {},
   "outputs": [
    {
     "name": "stdout",
     "output_type": "stream",
     "text": [
      "[LibSVM]"
     ]
    },
    {
     "data": {
      "text/plain": [
       "SVC(verbose=True)"
      ]
     },
     "execution_count": 33,
     "metadata": {},
     "output_type": "execute_result"
    }
   ],
   "source": [
    "alexnet_svm_model.fit(x_alex_img_train_sets, y_alex_label_train_sets)"
   ]
  },
  {
   "cell_type": "markdown",
   "metadata": {},
   "source": [
    "## VGG16-SVM"
   ]
  },
  {
   "cell_type": "code",
   "execution_count": 34,
   "metadata": {},
   "outputs": [],
   "source": [
    "vgg16_svm_model = svm.SVC(verbose=True)"
   ]
  },
  {
   "cell_type": "code",
   "execution_count": 35,
   "metadata": {},
   "outputs": [
    {
     "name": "stdout",
     "output_type": "stream",
     "text": [
      "[LibSVM]"
     ]
    },
    {
     "data": {
      "text/plain": [
       "SVC(verbose=True)"
      ]
     },
     "execution_count": 35,
     "metadata": {},
     "output_type": "execute_result"
    }
   ],
   "source": [
    "vgg16_svm_model.fit(x_vgg16_img_train_sets, y_vgg16_label_train_sets)"
   ]
  },
  {
   "cell_type": "markdown",
   "metadata": {},
   "source": [
    "## SIFT-SVM"
   ]
  },
  {
   "cell_type": "code",
   "execution_count": 48,
   "metadata": {},
   "outputs": [],
   "source": [
    "sift_svm_model = svm.SVC(verbose=True)"
   ]
  },
  {
   "cell_type": "code",
   "execution_count": 49,
   "metadata": {},
   "outputs": [
    {
     "name": "stdout",
     "output_type": "stream",
     "text": [
      "[LibSVM]"
     ]
    },
    {
     "data": {
      "text/plain": [
       "SVC(verbose=True)"
      ]
     },
     "execution_count": 49,
     "metadata": {},
     "output_type": "execute_result"
    }
   ],
   "source": [
    "sift_svm_model.fit(x_sift_img_train_sets, y_sift_label_train_sets)\n"
   ]
  },
  {
   "cell_type": "markdown",
   "metadata": {},
   "source": [
    "# Analystic"
   ]
  },
  {
   "cell_type": "code",
   "execution_count": 38,
   "metadata": {},
   "outputs": [],
   "source": [
    "def print_report(model, test_sets, y_true, classes):\n",
    "    y_pre = model.predict(test_sets)\n",
    "    print(classification_report(y_true, y_pre,target_names=classes))"
   ]
  },
  {
   "cell_type": "markdown",
   "metadata": {},
   "source": [
    "## Alexnet - SVM"
   ]
  },
  {
   "cell_type": "code",
   "execution_count": 43,
   "metadata": {},
   "outputs": [
    {
     "name": "stdout",
     "output_type": "stream",
     "text": [
      "              precision    recall  f1-score   support\n",
      "\n",
      "      Banana       0.99      1.00      1.00       350\n",
      "   Carambola       0.99      1.00      1.00       350\n",
      "       Mango       0.99      0.97      0.98       350\n",
      "      Orange       0.99      1.00      0.99       350\n",
      "       Peach       1.00      0.99      1.00       350\n",
      "        Pear       0.97      0.99      0.98       350\n",
      "   Persimmon       1.00      0.99      1.00       350\n",
      "      Pitaya       1.00      1.00      1.00       350\n",
      "        Plum       1.00      1.00      1.00       350\n",
      " Pomegranate       0.99      0.99      0.99       350\n",
      "    Tomatoes       1.00      1.00      1.00       350\n",
      "   muskmelon       0.98      0.98      0.98       350\n",
      "\n",
      "    accuracy                           0.99      4200\n",
      "   macro avg       0.99      0.99      0.99      4200\n",
      "weighted avg       0.99      0.99      0.99      4200\n",
      "\n"
     ]
    }
   ],
   "source": [
    "print_report(alexnet_svm_model,x_alex_img_test_sets,  y_alex_label_test_sets,classes=classes)"
   ]
  },
  {
   "cell_type": "markdown",
   "metadata": {},
   "source": [
    "## VGG16 - SVM"
   ]
  },
  {
   "cell_type": "code",
   "execution_count": 41,
   "metadata": {},
   "outputs": [
    {
     "name": "stdout",
     "output_type": "stream",
     "text": [
      "              precision    recall  f1-score   support\n",
      "\n",
      "      Banana       1.00      0.99      0.99       350\n",
      "   Carambola       0.99      0.99      0.99       350\n",
      "       Mango       0.97      0.99      0.98       350\n",
      "      Orange       1.00      0.98      0.99       350\n",
      "       Peach       0.99      1.00      1.00       350\n",
      "        Pear       0.98      0.97      0.97       350\n",
      "   Persimmon       0.99      1.00      0.99       350\n",
      "      Pitaya       1.00      1.00      1.00       350\n",
      "        Plum       1.00      1.00      1.00       350\n",
      " Pomegranate       0.99      0.99      0.99       350\n",
      "    Tomatoes       1.00      1.00      1.00       350\n",
      "   muskmelon       0.99      0.97      0.98       350\n",
      "\n",
      "    accuracy                           0.99      4200\n",
      "   macro avg       0.99      0.99      0.99      4200\n",
      "weighted avg       0.99      0.99      0.99      4200\n",
      "\n"
     ]
    }
   ],
   "source": [
    "print_report(vgg16_svm_model,x_vgg16_img_test_sets,  y_vgg16_label_test_sets,classes=classes)"
   ]
  },
  {
   "cell_type": "markdown",
   "metadata": {},
   "source": [
    "## SIFT - SVM"
   ]
  },
  {
   "cell_type": "code",
   "execution_count": 50,
   "metadata": {},
   "outputs": [
    {
     "name": "stdout",
     "output_type": "stream",
     "text": [
      "              precision    recall  f1-score   support\n",
      "\n",
      "      Banana       0.73      0.60      0.66       350\n",
      "   Carambola       0.73      0.78      0.75       350\n",
      "       Mango       0.61      0.45      0.52       350\n",
      "      Orange       0.69      0.42      0.52       350\n",
      "       Peach       0.63      0.80      0.70       350\n",
      "        Pear       0.71      0.45      0.55       350\n",
      "   Persimmon       0.50      0.86      0.63       350\n",
      "      Pitaya       0.64      0.62      0.63       350\n",
      "        Plum       0.77      0.88      0.82       350\n",
      " Pomegranate       0.50      0.40      0.44       350\n",
      "    Tomatoes       0.64      0.80      0.71       350\n",
      "   muskmelon       0.79      0.76      0.77       350\n",
      "\n",
      "    accuracy                           0.65      4200\n",
      "   macro avg       0.66      0.65      0.64      4200\n",
      "weighted avg       0.66      0.65      0.64      4200\n",
      "\n"
     ]
    }
   ],
   "source": [
    "print_report(sift_svm_model, x_sift_img_test_sets,  y_sift_label_test_sets,classes=classes)"
   ]
  }
 ],
 "metadata": {
  "interpreter": {
   "hash": "3352fef36a976fd03ef3514b8b8ed19b994d6988cc1ec98832e191d7b726957c"
  },
  "kernelspec": {
   "display_name": "Python 3.9.7 64-bit",
   "name": "python3"
  },
  "language_info": {
   "codemirror_mode": {
    "name": "ipython",
    "version": 3
   },
   "file_extension": ".py",
   "mimetype": "text/x-python",
   "name": "python",
   "nbconvert_exporter": "python",
   "pygments_lexer": "ipython3",
   "version": "3.9.7"
  },
  "orig_nbformat": 4
 },
 "nbformat": 4,
 "nbformat_minor": 2
}
